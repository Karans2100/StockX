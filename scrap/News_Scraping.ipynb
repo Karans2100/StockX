{
 "cells": [
  {
   "cell_type": "code",
   "execution_count": null,
   "id": "697c9972",
   "metadata": {},
   "outputs": [],
   "source": [
    "import pandas as pd\n",
    "from bs4 import BeautifulSoup\n",
    "import csv\n",
    "import requests\n",
    "import json\n",
    "import re"
   ]
  },
  {
   "cell_type": "code",
   "execution_count": null,
   "id": "932c67dd",
   "metadata": {},
   "outputs": [],
   "source": [
    "def get_blog_url(soup):\n",
    "    div_ = soup.find_all('div', attrs={'class': 'FL PR20'})\n",
    "    url_list = []\n",
    "    for title in div_:\n",
    "        href=title.find('a')['href']\n",
    "        url_list.append(\"https://www.moneycontrol.com/\"+href)\n",
    "    return url_list"
   ]
  },
  {
   "cell_type": "code",
   "execution_count": null,
   "id": "15e4b796",
   "metadata": {},
   "outputs": [],
   "source": [
    "def get_blog_content(url):\n",
    "    request = requests.get(url)\n",
    "    soup = BeautifulSoup(request.text, 'html.parser')\n",
    "    all_scripts = soup.find_all('script', attrs= {'type':'application/ld+json'})\n",
    "    raw_article_str = all_scripts[2].get_text().replace('\\r\\n', ' ')\n",
    "    parts = re.split(r\"\"\"(\"[^\"]*\"|'[^']*')\"\"\", raw_article_str)\n",
    "    parts[::2] = map(lambda s: \"\".join(s.split()), parts[::2])\n",
    "    article_str = \"\".join(parts)\n",
    "    article_str = article_str[1:]\n",
    "    article_str = article_str[:-1]\n",
    "    article_dict = json.loads(article_str)\n",
    "    return article_dict\n",
    "\n",
    "\n",
    "# def get_blog_content(url):\n",
    "#     request = requests.get(url)\n",
    "#     soup = BeautifulSoup(request.text, 'html.parser')\n",
    "#     all_scripts = soup.find_all('script', attrs= {'type':'application/ld+json'})\n",
    "#     raw_article_str = all_scripts[2].get_text().replace('\\r\\n', ' ')\n",
    "#     parts = re.split(r\"\"\"(\"[^\"]*\"|'[^']*')\"\"\", raw_article_str)\n",
    "#     parts[::2] = map(lambda s: \"\".join(s.split()), parts[::2])\n",
    "#     article_str = \"\".join(parts)\n",
    "#     article_str = article_str[1:]\n",
    "#     article_str = article_str[:-1]\n",
    "#     article_dict = json.loads(article_str)\n",
    "#     all_tags = soup.find_all('div', attrs={'class':'tags_first_line'})\n",
    "#     lst_all_tags = []\n",
    "#     for i in all_tags:\n",
    "#         lst_all_tags.append(i.get_text())\n",
    "#     tags = lst_all_tags[0].replace('TAGS:', '')\n",
    "#     tags = tags.replace('\\n', '')\n",
    "#     tags = tags.split('#')\n",
    "#     tags = tags[1:]\n",
    "#     tags = ', '.join([str(elem).strip() for elem in tags])\n",
    "#     article_dict['tags'] = tags\n",
    "#     return article_dict"
   ]
  },
  {
   "cell_type": "code",
   "execution_count": null,
   "id": "76320279",
   "metadata": {},
   "outputs": [],
   "source": [
    "# def get_page_no(url, sc_id, page_no, next, year):\n",
    "#     request = requests.get(url)\n",
    "#     soup = BeautifulSoup(request.text, 'html.parser')\n",
    "#     all_page_no = soup.find_all('div', attrs={'class':'pages MR10 MT15'})\n",
    "#     page_list = [i.text for i in all_page_no[0].find_all('a')]\n",
    "#     if any(map(str.isdigit, page_list[-1])):\n",
    "#         return int(page_list[-1]), next\n",
    "#     else:\n",
    "#         next = next + 1\n",
    "#         page_no = int(page_list[-2])\n",
    "#         url = \"https://www.moneycontrol.com/stocks/company_info/stock_news.php?sc_id=\"+sc_id+\"&scat=&pageno=\"+str(page_no)+\"&next=\"+str(next)+\"&durationType=Y&Year=\"+str(year)+\"&duration=1&news_type=\"\n",
    "#         return get_page_no(url, sc_id, page_no, next, year)\n",
    "\n",
    "\n",
    "# def get_page_no(url, sc_id, page_no, next, year):\n",
    "#     request = requests.get(url)\n",
    "#     soup = BeautifulSoup(request.text, 'html.parser')\n",
    "#     all_page_no = soup.find_all('div', attrs={'class': 'pages MR10 MT15'})\n",
    "    \n",
    "#     # Check if 'all_page_no' is empty or not found\n",
    "#     if not all_page_no:\n",
    "#         print(\"Pagination not found on the page.\")\n",
    "#         return 0, next\n",
    "\n",
    "#     page_list = [i.text for i in all_page_no[0].find_all('a')]\n",
    "    \n",
    "#     # Check if 'page_list' is empty or not found\n",
    "#     if not page_list:\n",
    "#         print(\"Page numbers not found in pagination.\")\n",
    "#         return 0, next\n",
    "\n",
    "#     if any(map(str.isdigit, page_list[-1])):\n",
    "#         return int(page_list[-1]), next\n",
    "#     else:\n",
    "#         next = next + 1\n",
    "#         page_no = int(page_list[-2])\n",
    "#         url = \"https://www.moneycontrol.com/stocks/company_info/stock_news.php?sc_id=\" + sc_id + \"&scat=&pageno=\" + str(\n",
    "#             page_no) + \"&next=\" + str(next) + \"&durationType=Y&Year=\" + str(year) + \"&duration=1&news_type=\"\n",
    "#         return get_page_no(url, sc_id, page_no, next, year)\n",
    "\n",
    "def get_page_no(url, sc_id, page_no, next, year):\n",
    "    request = requests.get(url)\n",
    "    soup = BeautifulSoup(request.text, 'html.parser')\n",
    "    all_page_no = soup.find_all('div', attrs={'class': 'pages MR10 MT15'})\n",
    "    \n",
    "    # Check if 'all_page_no' is empty or not found\n",
    "    if not all_page_no:\n",
    "        print(\"Pagination not found on the page.\")\n",
    "        return 1, next\n",
    "\n",
    "    page_list = [i.text for i in all_page_no[0].find_all('a')]\n",
    "    \n",
    "    # Check if 'page_list' is empty or not found\n",
    "    if not page_list:\n",
    "        print(\"Page numbers not found in pagination.\")\n",
    "        return 1, next\n",
    "\n",
    "    if page_list and any(map(str.isdigit, page_list[-1])):\n",
    "        return int(page_list[-1]), next\n",
    "    else:\n",
    "        next = next + 1\n",
    "        page_no = int(page_list[-2])\n",
    "        url = \"https://www.moneycontrol.com/stocks/company_info/stock_news.php?sc_id=\" + sc_id + \"&scat=&pageno=\" + str(\n",
    "            page_no) + \"&next=\" + str(next) + \"&durationType=Y&Year=\" + str(year) + \"&duration=1&news_type=\"\n",
    "        return get_page_no(url, sc_id, page_no, next, year)\n"
   ]
  },
  {
   "cell_type": "code",
   "execution_count": null,
   "id": "2b08c917",
   "metadata": {},
   "outputs": [],
   "source": [
    "def save_company_data(url_ = \"https://www.moneycontrol.com/stocks/company_info/stock_news.php?\", sc_id=[], page_no=1, next=0, years=[]):\n",
    "    for company in sc_id:\n",
    "        df = pd.DataFrame(columns=['company','headline',\n",
    "                                   'description', 'articleBody'])\n",
    "        for year in years:\n",
    "            print('year: ', year)\n",
    "            print('page_no: ', page_no)\n",
    "            print('next: ', next)\n",
    "            \n",
    "            url = url_ + \"sc_id=\"+company+\"&scat=&pageno=\"+str(page_no)+\"&next=\"+str(next)+\"&durationType=Y&Year=\"+str(year)+\"&duration=1&news_type=\"\n",
    "            print('url: ', url)\n",
    "            \n",
    "            max_page_no, max_next = get_page_no(url, company, page_no, next, year)\n",
    "            max_next = max_next + 1\n",
    "            \n",
    "            for i in range(max_next):\n",
    "                for j in range((i*10)+1, (i*10)+11):\n",
    "                    if j <= max_page_no:\n",
    "                        url_list = []\n",
    "                        url = url_ + \"sc_id=\"+company+\"&scat=&pageno=\"+str(j)+\"&next=\"+str(i)+\"&durationType=Y&Year=\"+str(year)+\"&duration=1&news_type=\"\n",
    "                        request = requests.get(url)\n",
    "                        soup = BeautifulSoup(request.text, 'html.parser')\n",
    "                        url_list = get_blog_url(soup)\n",
    "                        \n",
    "                        for url in url_list:\n",
    "                            try:\n",
    "                                article_dict = get_blog_content(url)\n",
    "                                print(company)\n",
    "                                print(article_dict['headline'])\n",
    "                                print('-------------------------------')\n",
    "                                \n",
    "                                article_lst = [[company,\n",
    "                                                article_dict['headline'],\n",
    "                                                article_dict['description'],\n",
    "                                                article_dict['articleBody'],\n",
    "                                               ]]\n",
    "                                \n",
    "                                df = df.append(pd.DataFrame(article_lst, columns=['company', 'headline', \n",
    "                                               'description', 'articleBody']), ignore_index = True)\n",
    "                                \n",
    "                            except:\n",
    "                                article_lst = [[company, 'error', 'error', 'error']]\n",
    "                                df = df.append(pd.DataFrame(article_lst, columns=['company', 'headline', \n",
    "                                               'description', 'articleBody']), ignore_index = True)\n",
    "                                \n",
    "                                continue\n",
    "                        else:\n",
    "                            break\n",
    "                    \n",
    "                df.to_csv('company_data/news_scrape_'+company+'.csv', index=False)\n",
    "                         "
   ]
  },
  {
   "cell_type": "code",
   "execution_count": null,
   "id": "d50216d4",
   "metadata": {},
   "outputs": [],
   "source": [
    "save_company_data(sc_id=['RI'], years = [2023])"
   ]
  },
  {
   "cell_type": "code",
   "execution_count": null,
   "id": "b1005fa7",
   "metadata": {},
   "outputs": [],
   "source": [
    "save_company_data(sc_id=['AE01'], years = [2023, 2022])"
   ]
  },
  {
   "cell_type": "code",
   "execution_count": null,
   "id": "88e10337",
   "metadata": {},
   "outputs": [],
   "source": [
    "save_company_data(sc_id=['MPS'], years = [2023, 2022])"
   ]
  },
  {
   "cell_type": "code",
   "execution_count": null,
   "id": "3e7611a4",
   "metadata": {},
   "outputs": [],
   "source": [
    "save_company_data(sc_id=['AHE'], years = [2023, 2022])"
   ]
  },
  {
   "cell_type": "code",
   "execution_count": null,
   "id": "b43c6b3a",
   "metadata": {},
   "outputs": [],
   "source": [
    "save_company_data(sc_id=['API'], years = [2023, 2022])"
   ]
  },
  {
   "cell_type": "code",
   "execution_count": null,
   "id": "27512e48",
   "metadata": {},
   "outputs": [],
   "source": [
    "save_company_data(sc_id=['UTI10'], years = [2023, 2022])"
   ]
  },
  {
   "cell_type": "code",
   "execution_count": null,
   "id": "9d4eaa67",
   "metadata": {},
   "outputs": [],
   "source": [
    "save_company_data(sc_id=['BA06'], years = [2023, 2022])"
   ]
  },
  {
   "cell_type": "code",
   "execution_count": null,
   "id": "2680011d",
   "metadata": {},
   "outputs": [],
   "source": [
    "save_company_data(sc_id=['BAF'], years = [2023, 2022])"
   ]
  },
  {
   "cell_type": "code",
   "execution_count": null,
   "id": "b3c4f890",
   "metadata": {},
   "outputs": [],
   "source": [
    "save_company_data(sc_id=['BF04'], years = [2023, 2022])"
   ]
  },
  {
   "cell_type": "code",
   "execution_count": null,
   "id": "8b190c3e",
   "metadata": {},
   "outputs": [],
   "source": [
    "save_company_data(sc_id=['BPC'], years = [2023, 2022])"
   ]
  },
  {
   "cell_type": "code",
   "execution_count": null,
   "id": "639b289e",
   "metadata": {},
   "outputs": [],
   "source": [
    "save_company_data(sc_id=['BTV'], years = [2023, 2022])"
   ]
  },
  {
   "cell_type": "code",
   "execution_count": null,
   "id": "706fb6fd",
   "metadata": {},
   "outputs": [],
   "source": [
    "save_company_data(sc_id=['BI'], years = [2023, 2022])"
   ]
  },
  {
   "cell_type": "code",
   "execution_count": null,
   "id": "f3acc9cd",
   "metadata": {},
   "outputs": [],
   "source": [
    "save_company_data(sc_id=['C'], years = [2023, 2022])"
   ]
  },
  {
   "cell_type": "code",
   "execution_count": null,
   "id": "339a603f",
   "metadata": {},
   "outputs": [],
   "source": [
    "save_company_data(sc_id=['CI29'], years = [2023, 2022])"
   ]
  },
  {
   "cell_type": "code",
   "execution_count": null,
   "id": "e0dc638e",
   "metadata": {},
   "outputs": [],
   "source": [
    "save_company_data(sc_id=['DL03'], years = [2023, 2022])"
   ]
  },
  {
   "cell_type": "code",
   "execution_count": null,
   "id": "9c040787",
   "metadata": {},
   "outputs": [],
   "source": [
    "save_company_data(sc_id=['DRL'], years = [2023, 2022])"
   ]
  },
  {
   "cell_type": "code",
   "execution_count": null,
   "id": "397367d3",
   "metadata": {},
   "outputs": [],
   "source": [
    "save_company_data(sc_id=['EM'], years = [2023, 2022])"
   ]
  },
  {
   "cell_type": "code",
   "execution_count": null,
   "id": "acfb53c6",
   "metadata": {},
   "outputs": [],
   "source": [
    "save_company_data(sc_id=['GI01'], years = [2023, 2022])"
   ]
  },
  {
   "cell_type": "code",
   "execution_count": null,
   "id": "36cc9a1b",
   "metadata": {},
   "outputs": [],
   "source": [
    "save_company_data(sc_id=['HCL02'], years = [2023, 2022])"
   ]
  },
  {
   "cell_type": "code",
   "execution_count": null,
   "id": "00ec2927",
   "metadata": {},
   "outputs": [],
   "source": [
    "save_company_data(sc_id=['HDF01'], years = [2023, 2022])"
   ]
  },
  {
   "cell_type": "code",
   "execution_count": null,
   "id": "78171688",
   "metadata": {},
   "outputs": [],
   "source": [
    "save_company_data(sc_id=['HSL01'], years = [2023, 2022])"
   ]
  },
  {
   "cell_type": "code",
   "execution_count": null,
   "id": "fb1141d5",
   "metadata": {},
   "outputs": [],
   "source": [
    "save_company_data(sc_id=['HHM'], years = [2023, 2022])"
   ]
  },
  {
   "cell_type": "code",
   "execution_count": null,
   "id": "09f0c233",
   "metadata": {},
   "outputs": [],
   "source": [
    "save_company_data(sc_id=['H'], years = [2023, 2022])"
   ]
  },
  {
   "cell_type": "code",
   "execution_count": null,
   "id": "37683352",
   "metadata": {},
   "outputs": [],
   "source": [
    "save_company_data(sc_id=['HL'], years = [2023, 2022])"
   ]
  },
  {
   "cell_type": "code",
   "execution_count": null,
   "id": "d481667f",
   "metadata": {},
   "outputs": [],
   "source": [
    "save_company_data(sc_id=['ICI02'], years = [2023, 2022])"
   ]
  },
  {
   "cell_type": "code",
   "execution_count": null,
   "id": "672dfb48",
   "metadata": {},
   "outputs": [],
   "source": [
    "save_company_data(sc_id=['ITC'], years = [2023, 2022])"
   ]
  },
  {
   "cell_type": "code",
   "execution_count": null,
   "id": "1701f622",
   "metadata": {},
   "outputs": [],
   "source": [
    "save_company_data(sc_id=['IIB'], years = [2023, 2022])"
   ]
  },
  {
   "cell_type": "code",
   "execution_count": null,
   "id": "2baaf0c7",
   "metadata": {},
   "outputs": [],
   "source": [
    "save_company_data(sc_id=['IT'], years = [2023, 2022])"
   ]
  },
  {
   "cell_type": "code",
   "execution_count": null,
   "id": "62d74127",
   "metadata": {},
   "outputs": [],
   "source": [
    "save_company_data(sc_id=['JVS'], years = [2023, 2022])"
   ]
  },
  {
   "cell_type": "code",
   "execution_count": null,
   "id": "f8e41e89",
   "metadata": {},
   "outputs": [],
   "source": [
    "save_company_data(sc_id=['JFS'], years = [2023, 2022])"
   ]
  },
  {
   "cell_type": "code",
   "execution_count": null,
   "id": "bbb463cf",
   "metadata": {},
   "outputs": [],
   "source": [
    "save_company_data(sc_id=['KMF'], years = [2023, 2022])"
   ]
  },
  {
   "cell_type": "code",
   "execution_count": null,
   "id": "7cf6c0f6",
   "metadata": {},
   "outputs": [],
   "source": [
    "save_company_data(sc_id=['LI09'], years = [2023, 2022])"
   ]
  },
  {
   "cell_type": "code",
   "execution_count": null,
   "id": "b60f9df7",
   "metadata": {},
   "outputs": [],
   "source": [
    "save_company_data(sc_id=['LT'], years = [2023, 2022])"
   ]
  },
  {
   "cell_type": "code",
   "execution_count": null,
   "id": "f6b5e6eb",
   "metadata": {},
   "outputs": [],
   "source": [
    "save_company_data(sc_id=['MM'], years = [2023, 2022])"
   ]
  },
  {
   "cell_type": "code",
   "execution_count": null,
   "id": "f53d470b",
   "metadata": {},
   "outputs": [],
   "source": [
    "save_company_data(sc_id=['MU01'], years = [2023, 2022])"
   ]
  },
  {
   "cell_type": "code",
   "execution_count": null,
   "id": "b570edcf",
   "metadata": {},
   "outputs": [],
   "source": [
    "save_company_data(sc_id=['NTP'], years = [2023, 2022])"
   ]
  },
  {
   "cell_type": "code",
   "execution_count": null,
   "id": "a04ede68",
   "metadata": {},
   "outputs": [],
   "source": [
    "save_company_data(sc_id=['NI'], years = [2023, 2022])"
   ]
  },
  {
   "cell_type": "code",
   "execution_count": null,
   "id": "b724687a",
   "metadata": {},
   "outputs": [],
   "source": [
    "save_company_data(sc_id=['ONG'], years = [2023, 2022])"
   ]
  },
  {
   "cell_type": "code",
   "execution_count": null,
   "id": "27d618e6",
   "metadata": {},
   "outputs": [],
   "source": [
    "save_company_data(sc_id=['PGC'], years = [2023, 2022])"
   ]
  },
  {
   "cell_type": "code",
   "execution_count": null,
   "id": "0f3807ee",
   "metadata": {},
   "outputs": [],
   "source": [
    "save_company_data(sc_id=['SLI03'], years = [2023, 2022])"
   ]
  },
  {
   "cell_type": "code",
   "execution_count": null,
   "id": "d811f9b2",
   "metadata": {},
   "outputs": [],
   "source": [
    "save_company_data(sc_id=['SBI'], years = [2023, 2022])"
   ]
  },
  {
   "cell_type": "code",
   "execution_count": null,
   "id": "6e0cf8d8",
   "metadata": {},
   "outputs": [],
   "source": [
    "save_company_data(sc_id=['SPI'], years = [2023, 2022])"
   ]
  },
  {
   "cell_type": "code",
   "execution_count": null,
   "id": "a63504ab",
   "metadata": {},
   "outputs": [],
   "source": [
    "save_company_data(sc_id=['TCS'], years = [2023, 2022])"
   ]
  },
  {
   "cell_type": "code",
   "execution_count": null,
   "id": "44087fb8",
   "metadata": {},
   "outputs": [],
   "source": [
    "save_company_data(sc_id=['TT'], years = [2023, 2022])"
   ]
  },
  {
   "cell_type": "code",
   "execution_count": null,
   "id": "88ee4688",
   "metadata": {},
   "outputs": [],
   "source": [
    "save_company_data(sc_id=['TEL'], years = [2023, 2022])"
   ]
  },
  {
   "cell_type": "code",
   "execution_count": null,
   "id": "48f21306",
   "metadata": {},
   "outputs": [],
   "source": [
    "save_company_data(sc_id=['TIS'], years = [2023, 2022])"
   ]
  },
  {
   "cell_type": "code",
   "execution_count": null,
   "id": "1f18665e",
   "metadata": {},
   "outputs": [],
   "source": [
    "save_company_data(sc_id=['TM4'], years = [2023, 2022])"
   ]
  },
  {
   "cell_type": "code",
   "execution_count": null,
   "id": "a9767130",
   "metadata": {},
   "outputs": [],
   "source": [
    "save_company_data(sc_id=['TI01'], years = [2023, 2022])"
   ]
  },
  {
   "cell_type": "code",
   "execution_count": null,
   "id": "63c971c2",
   "metadata": {},
   "outputs": [],
   "source": [
    "save_company_data(sc_id=['SI10'], years = [2023, 2022])"
   ]
  },
  {
   "cell_type": "code",
   "execution_count": null,
   "id": "6816fcc0",
   "metadata": {},
   "outputs": [],
   "source": [
    "save_company_data(sc_id=['UTC'], years = [2023, 2022])"
   ]
  },
  {
   "cell_type": "code",
   "execution_count": null,
   "id": "fe01b974",
   "metadata": {},
   "outputs": [],
   "source": [
    "save_company_data(sc_id=['W'], years = [2023, 2022])"
   ]
  },
  {
   "cell_type": "code",
   "execution_count": null,
   "id": "547b3da8",
   "metadata": {},
   "outputs": [],
   "source": [
    "save_company_data(sc_id=['AE01', 'AHE'], years = [2021])"
   ]
  },
  {
   "cell_type": "code",
   "execution_count": null,
   "id": "55024674",
   "metadata": {},
   "outputs": [],
   "source": [
    "print(\"Success\")"
   ]
  },
  {
   "cell_type": "code",
   "execution_count": null,
   "id": "bf46ad63",
   "metadata": {},
   "outputs": [],
   "source": [
    "sc_id_values = ['AE01', 'AHE', 'API', 'BA06', 'BAF', 'BF04', 'BI', 'BPC', 'BTV', 'C', 'CI29', 'DL03', 'DRL', 'EM', 'GI01', 'H', 'HCL02', 'HDF01', 'HHM', 'HL', 'HSL01', 'ICI02', 'IIB', 'IT', 'ITC', 'JFS', 'JVS', 'KMF', 'LI09', 'LT', 'MM', 'MPS', 'MU01', 'NI', 'NTP', 'ONG', 'PGC', 'RI', 'SBI', 'SI10', 'SLI03', 'SPI', 'TCS', 'TEL', 'TI01', 'TIS', 'TM4', 'TT', 'UTC', 'UTI10', 'W']\n",
    "\n",
    "years_of_interest = [2019]\n",
    "\n",
    "for sc_id in sc_id_values:\n",
    "    save_company_data(sc_id=[sc_id], years=years_of_interest)"
   ]
  },
  {
   "cell_type": "code",
   "execution_count": 2,
   "id": "526e1d61",
   "metadata": {},
   "outputs": [
    {
     "name": "stdout",
     "output_type": "stream",
     "text": [
      "['D:\\\\DEV\\\\Python\\\\Advance_Python_Project\\\\scrap\\\\company_data\\\\news_scrape_RI.csv']\n",
      "Combined data saved to D:\\DEV\\Python\\Advance_Python_Project\\scrap\\company_data\\..\\cleaned_data.csv\n"
     ]
    }
   ],
   "source": [
    "import pandas as pd\n",
    "import glob\n",
    "import os\n",
    "\n",
    "directory_path = r\"D:\\DEV\\Python\\Advance_Python_Project\\scrap\\company_data\"\n",
    "csv_files = glob.glob(f\"{directory_path}/*.csv\")\n",
    "\n",
    "combined_data = pd.DataFrame()\n",
    "\n",
    "for file in csv_files:\n",
    "    df = pd.read_csv(file)\n",
    "    combined_data = pd.concat([combined_data, df], ignore_index=True)\n",
    "\n",
    "output_directory = os.path.dirname(csv_files[0])\n",
    "output_csv_file = os.path.join(output_directory, \"..\", \"cleaned_data.csv\")\n",
    "\n",
    "combined_data.to_csv(output_csv_file, index=False)\n",
    "print(f\"Combined data saved to {output_csv_file}\")\n"
   ]
  },
  {
   "cell_type": "code",
   "execution_count": null,
   "id": "896e7d88",
   "metadata": {},
   "outputs": [],
   "source": []
  }
 ],
 "metadata": {
  "kernelspec": {
   "display_name": "Python 3 (ipykernel)",
   "language": "python",
   "name": "python3"
  },
  "language_info": {
   "codemirror_mode": {
    "name": "ipython",
    "version": 3
   },
   "file_extension": ".py",
   "mimetype": "text/x-python",
   "name": "python",
   "nbconvert_exporter": "python",
   "pygments_lexer": "ipython3",
   "version": "3.10.6"
  }
 },
 "nbformat": 4,
 "nbformat_minor": 5
}
